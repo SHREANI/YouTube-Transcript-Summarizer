{
  "cells": [
    {
      "cell_type": "code",
      "execution_count": 18,
      "metadata": {
        "colab": {
          "base_uri": "https://localhost:8080/"
        },
        "id": "UvlmJ9VZ4We4",
        "outputId": "90cf5f0b-357f-41a2-fd97-2f4725f3bb7a"
      },
      "outputs": [
        {
          "name": "stdout",
          "output_type": "stream",
          "text": [
            "Requirement already satisfied: nltk in /usr/local/lib/python3.11/dist-packages (3.9.1)\n",
            "Requirement already satisfied: click in /usr/local/lib/python3.11/dist-packages (from nltk) (8.1.8)\n",
            "Requirement already satisfied: joblib in /usr/local/lib/python3.11/dist-packages (from nltk) (1.4.2)\n",
            "Requirement already satisfied: regex>=2021.8.3 in /usr/local/lib/python3.11/dist-packages (from nltk) (2024.11.6)\n",
            "Requirement already satisfied: tqdm in /usr/local/lib/python3.11/dist-packages (from nltk) (4.67.1)\n",
            "Requirement already satisfied: youtube-transcript-api in /usr/local/lib/python3.11/dist-packages (1.0.2)\n",
            "Requirement already satisfied: scikit-learn in /usr/local/lib/python3.11/dist-packages (1.6.1)\n",
            "Requirement already satisfied: nltk in /usr/local/lib/python3.11/dist-packages (3.9.1)\n",
            "Requirement already satisfied: defusedxml<0.8.0,>=0.7.1 in /usr/local/lib/python3.11/dist-packages (from youtube-transcript-api) (0.7.1)\n",
            "Requirement already satisfied: requests in /usr/local/lib/python3.11/dist-packages (from youtube-transcript-api) (2.32.3)\n",
            "Requirement already satisfied: numpy>=1.19.5 in /usr/local/lib/python3.11/dist-packages (from scikit-learn) (2.0.2)\n",
            "Requirement already satisfied: scipy>=1.6.0 in /usr/local/lib/python3.11/dist-packages (from scikit-learn) (1.14.1)\n",
            "Requirement already satisfied: joblib>=1.2.0 in /usr/local/lib/python3.11/dist-packages (from scikit-learn) (1.4.2)\n",
            "Requirement already satisfied: threadpoolctl>=3.1.0 in /usr/local/lib/python3.11/dist-packages (from scikit-learn) (3.6.0)\n",
            "Requirement already satisfied: click in /usr/local/lib/python3.11/dist-packages (from nltk) (8.1.8)\n",
            "Requirement already satisfied: regex>=2021.8.3 in /usr/local/lib/python3.11/dist-packages (from nltk) (2024.11.6)\n",
            "Requirement already satisfied: tqdm in /usr/local/lib/python3.11/dist-packages (from nltk) (4.67.1)\n",
            "Requirement already satisfied: charset-normalizer<4,>=2 in /usr/local/lib/python3.11/dist-packages (from requests->youtube-transcript-api) (3.4.1)\n",
            "Requirement already satisfied: idna<4,>=2.5 in /usr/local/lib/python3.11/dist-packages (from requests->youtube-transcript-api) (3.10)\n",
            "Requirement already satisfied: urllib3<3,>=1.21.1 in /usr/local/lib/python3.11/dist-packages (from requests->youtube-transcript-api) (2.3.0)\n",
            "Requirement already satisfied: certifi>=2017.4.17 in /usr/local/lib/python3.11/dist-packages (from requests->youtube-transcript-api) (2025.1.31)\n"
          ]
        },
        {
          "name": "stderr",
          "output_type": "stream",
          "text": [
            "[nltk_data] Downloading package punkt to /root/nltk_data...\n",
            "[nltk_data]   Package punkt is already up-to-date!\n"
          ]
        },
        {
          "name": "stdout",
          "output_type": "stream",
          "text": [
            "\n",
            " **Summary:-**\n",
            "In Bombay, when youare in a relationshipwith someone, the dream is tolive together.Because otherwiseyou are sharinga room with your sibling,whatever, whatever.And then you live togetherfor 3 months,you are like, \"Yes,f** I can f** whenever I wantthen you're like, f**we've to talk also.Like he neverleaves.We both work from homeand again it's Mumbaiso the apartment is likewe're always ineach other's way.Like, yesterday I came backfrom the gym he wastaking a virtual meetingin the living room.So I just haveto sit by the doorlike this is not the lifeI envisioned for myself.Then I'm like,actually, my parents need me.So I'll go stay at theirhouse for a bit.So I was like,long-distance is good.Like a 30-minute flight.Like, Goa.You guys have been togethercouple of years now.4 years.4 years now - Yeah.Where exactly.\n",
            "\n",
            "are you guys fightingor you guysNo neither of us fight.You don't fight?We just sweep it under the rugwe’re like, I'm taking the dogfor a walk when we’re like......really upset and then wesort it out in our own head.This is going to end ina murder at some point.Any couple that doesn't fightit's just like somecrime is about to happen.It's loading right now.What's the fight about?It's actually just because he’s likemy one bedroom is a closet.And he was like, Ineed a workspace.And I was like,oops!He was like,my work is important than yourcloset butmy Get Ready With Me,that's my work.Yeah, so for contextyou make Get Ready With Me videos.So nothing elsehappens in that room?They just get ready.Don't you use that room for anything?I get readylike, 2-3 times a day.I dare you to sayanother combination of wordsSakshi.Combine two other wordsLet's Get Dressed.And like for context,he's got nothing to do with Instagramhe is not in your world of - No.He's a software engineer.Lovely Yeah.I couldn't get readyat Third Wave, guys.Exactly.Dude, my wife and I, we've been alsoliving together for 4 years.But we've beenmarried for four years.We are not disgusting.I recently found outtell me what I shoulddo with this information.When you havea kid being raised,and you've a.\n",
            "\n",
            "likein the 90s, okay?I don't know how it is right now.You had a kid in the 90sor maybe before that,and you had a family friend whohad a kid of the oppositesex, same age,you are like,maybe when they aremarriageable age,we could do an arrangemarriage between them.Okay?I found outthat my wife hada guy who her familyhad kept as backup.And he is like,Cousin of hers?No.Just checking.No, that's me.Is he hotter than you?No - Come on.He is better-looking.So when I found this outthen my wife was like,I'm happy with you.In a Swift.Yeah.I wasunhappy with her.I was like, I was youI would've picked Lamborghini.I would've picked him.Yeah.Personally,I think your family isabsolutely wrongwith this f** choice.And you all have puttoo much pressure on me.Imagine Raunaq worksso hard the next 10 years,he gets Lamborghini by 2030.But that guy has a Rolls-Royce.Yeah.Is it daddy's moneyor he buy the Lamborghini?Daddy's money \"I don't care about these reasons.This hypothetical person.\n",
            "\n",
            "- Hey, gold-digging s**,I am also like that.I told my wifewhat's wrong with you?I just feel like in this rented 2 BHK,when we f** live in Bombaywhere we also sit on the sidewhere there's a zoom call going onI am like, what's wrong with you?What is this f** like you want?What do you want from me, dude?Now every time I fightI am like, you gave up thatso I guess I am wrong.It's not fair, right? Yes.Whatever face he has.2 Lambos I’ll f**.Let's start the auction for this.Where is the..One Lambo going..One Lambo ugly..Two Lambof** come here.It's the questionall my girl friends were askingduring this **thing when we were like, ** moneywould you marry Anant?Yes - No.I would..Dude, I wouldlet f** Anantabuse the shit out of me.I would be caged in the zoo.I will live in the zoo.You please be carefulwith these questionsas soon as you said f**Raunaq opened his legs a little.We were in the same city for a while andshe had to move for a job.Okay.Yeah, it's torture now.So now you're just waiting for someoneto break it off?Is that what it is?No Correct.You would be like, where is your girlfriend,umm.\n",
            "\n",
            "she'snot here.And I'm like, sure, sure, she'ssomewhere else, yeah.I went to a boys school.So all of my friends havehad girlfriendsfar away Very close.It's like supporting Manchester United.Once upon a time there wasa glory days and you're like,yeah, f** that's the thing.And now I'm living like,those days will come back.Where are you at, Abhishek, in your relationship status?I am single.Lovely.We'll meet later.I have met people I've seen them.But I can't callanything a relationshipever since, I believe.Because covid happened, Ididn't have time or chanceto meet someone.Every time, I could meet someonesecond or third dateI am travelling for my shows.And I'm not even flexingI'll tell you what happened.2 years back,Flexing.I'll tell you why.End of the story, you'll empathize.Okay.Yeah, yeah, let's hear it.Let's see, yeah.It's too much.\n",
            "\n",
            "spotlight.Okay, Get Ready With Me.Umm.\n",
            "\n",
            "soI havetwo weeks in Londonbefore London, Iwe had this really cute thing going on, okay?So there was a conversationright before Londonwhere we're like, should webecome exclusive? Then she is like,should we just wait it out?Go to London.Come back after 2 weeks.If we still have this butterfly feelinglet's go exclusive.There was a f** upmistake that I did, I said yes.You know what happened.Yeah, sowe went and we decided not to be exclusive.She was like, you're going toLondon, you can meet, match with people,Londoners, Brits.This non-Indianfetish we have, right?I was also, yeah, correct, correct.I go over there.Nothing happened, okay?I come back and we go on a date.After the date,always beforemaking my move, I askcan I.\n",
            "\n",
            "she's like..I asked her whathappened? She's like,I met this other guy, no?Yeah.At this point, she's like, ifyou want to go out with me,we should become exclusive.Yeah.It was okay until thenI'm like this girlshe'll take my side.So who do I pick?She asked you to pick?Between you.\n",
            "\n",
            "- And the other guy.What did you say?I don't know if he had a Lamborghini.I am like,I hate being thisguy, \"No, pick me \"Who the f** is this guy?I'm like, f**woah!I'm like,Go.And now they celebratedsome 2-year anniversary.When I saw the pictures,and stories, I was like,that could've been me f**In retrospect,I think I should be selfish andtold her, I like you,man In her..It sounds like, shewanted to be like, pick me.But you were like..No, no.I'll tell you wherethis got complicated.Edit this part, okay?Yes, definitely.I'll tell you where this got complicatedif she had told methat I really like youI like that guy alsobut tell me what to doI really like you, should we just go out?It was not that She's was like,this weekend wehave a trip planned somewhere.It's gone that far, okay?She was like,if I have to go on this trip,I need to become exclusive.She put that clause.So I'm like,oh, if so much is planned,which means you really like this guy.I loved that youused the word clause.Something has happened, that guy is like,trip, if you want to come,that guy, you shouldf** him over and come.Trip was hisLamborghini, basically.I'm like.\n",
            "\n",
            "- Where was thistrip to?Was it at least in London?It was Pondicherry.Oh, my God.Was it an OYO in Pondicherry?I don't know.There's no good hotels in Pondi.There are no good hotels - Do you still follow her?Yeah, I follow her.At some point they're going to break up.Yeah, I'm waiting for that.Both of them are in UK or something.As soon as they break up,start putting up storiesfrom Pondicherry.I'm just chilling here,anyone wants to come?But no good hotels, no?It's a tricky situation, you can'tBro, not everyone's going to come telling youyou and one more option.Because you know, the thing isyou say, \"Yes, pick me,\"then every time you fight, she'll sayI picked you becauseyou wanted you.I'll tell you where this is coming from.The Lamborghini cousin.Every time they have a fight,I left the Lamborghini for you.But wait..You asked someoneright as you are going in for the kiss\"Can I kiss you? clausesabbatical, open letter.I'll tell you why..CTC.My instincts are absolutely right.I felt something I should askbecause she's met this guy, whatever..It's good to ask.I asked and my instinctswere right - Fair.I read the room right.So Saskhi, are you sayingthat if she didn't ask, she would'veshe would've been thinking.\n",
            "\n",
            "- I'll tell youI should say no? - Yeah.Actually, she mighthave just kissed mebut she would've felt terrible.Becauseshe had something sortof going on the other side.I don't want..I don't want toput her in that spot.I am not saying, don't ask for consent.I'm saying, don'tgo inside her mouthand ask.If she said so,why try to kiss herin the first place?No, no.This episode editwill start with Sakshi saying,Don't ask for consent.Boyfriend sitting in ThirdWave, upvote, upvote.But I wanna hear your answer.What did I do wrong?I mean..if you were alreadygoing in for the kiss.I wasn't going in - Okay.Because you said, I'm going inNo, no.\n",
            "\n",
            "- That's like, eww.He thought that's the nextlogical step but he should ask.Okay.We were in the car, I felt tensionbut I just liked to ask.Yeah, it's polite - Okay.Even I thought what Sakshi said like,they are like this and he's like, can I kiss you?Yeah, yeah.Like his tongue is out andhe's like, can I kiss you?Can I?She's like, oh, no.Actually, no thanks.So now you are singleand you still regret it or are you over it?No, I'm over it.What over it? Just now you're sayingstories and crying and all.F** liar.Go to Pondicherry then.I followed them.Anyway..Dude, they just keep travelling.He reaches Pondi,London!Nirmal, we gotta do a tour, man.There's someone with the mic.Voice of God has come.Where is this God from?My mother is talking from Chennai She followedyou here, bro.She invites you to the wedding.Yeah, hi.That's good.I would've never done it if itwasn't for Abhishek's blessings.There's still information, I am tryingto move on here.Why are you putting her wedding visualsin my head?I'm genuinely telling youI'm over her.Trust me - Okay?Now three years latershe calls you up and tells you,I made a huge mistakeno one loved me theway you did, Abhishek.No one threw me intoanother man's armslike you.Abhishek,I am waiting below the buildingat the Blue Tokai, come right now.Third Wave.That's her building, you a**Sorry.I don't know which one to pick.Finish.So where are you at?How are you responding to this question?I would save her from abad marriage - Duty?Fireman you are or what?Provided I am single then.If I have a good marriage,I'll have a good marriage.You are in a bad marriageand she's in a bad marriage.Go to London, bro.Sakshi, do you want to read the first one?I read it a little slowit's a long one.Would you like to read it?No, I talk slow.It's the longest one youshould read, I think, yeah?Yeah.We’ll get ready with you.Superman.Get Ready With Me.It is called a tent.What is a tent?A tent to stay upneeds a pole, right?Oh Got it.I am explaining camping to her now.Firstly, her aunt willnever look him in the eye.Aunt will never go forcamping ever again.No more tents.The thing is he f** upby saying, it's the last timehe wore an underwear.Yeah.It shouldn't be the last time.No, last time I wear dhoti.Not underwear.Unless she has another guyand she set him up becauseshe wanted to go to Pondi.Dude, now the whole lifewe're going to hit you where it hurts.Full.We're going to keep doing this.Break my tent.I have one question.Dhotis have no pockets.Where did he keep the underwear?He gave it to the aunt.How do you politely point outyour underwear is red, dude.Listen, your underwear is red.We all can see your ass is red.Actually, I've periods.Imagine how dumb this guy ishe's like through the dhotiyou can see the underwear.I'll take off the underwear.This is some problem-solving skillsof another level, dude.Of course, he was wearing a kurta.But then how couldthey see the underwear?Must be wearing a short kurta.Shirt or short kurta.Next time wear a long kurta.So the moral is when you weara kurta, no underwear is needed.In fact, if the kurta is long enoughnodhoti needed.Anyone here in the audiencewho got experiencewith dhotis, mundus?So you have to wearan underwear with it?You've to wear it?Down south, they wear lungisfor leisures - Dhotis also.The leisure are like, coloured.No, no.In Kerala and all they wearwhite coloured, it becomesoff white in 2-3 monthsit's very casual.You know, with girls it's like,we know what underwear to wearwith what outfit.Like, don't you guysWe've only 3-4.Oh.Yeah Not a lot of colours.\n",
            "\n",
            "- You don't weara thong with a dhoti or something.That's called a langot by the way.Not a thong.He should makeeveryone believe thatauntie seduced him.Yeah, yeah.Throw her under the bus.Yeah, be like, whywas she looking?Like he should get a t-shirtthat says, my eyes are up here.And wear that to meet the auntthe next time.Or he should just print it onthe red colour brief.My eyes are up here.On the brief, he'll printmy eyes are up here?BecauseWhat did you do in Pondi, bro?Little longer brief.My eyes are somewhere above.Eyessomewhere.Okay, long.\n",
            "\n",
            "shorts.Next time his tentshould point upwards.What if he has one of thosecrooked boners?Like..Yeah.That's embarrassing I wouldn't wantLike swing deliveries.I don't want anybody tosee my helicopter shot.Imagine later all the relatives are likeit was not fun It was horrible.You know for aconservative family it's also almostreally nice that theyeven allowed her to get her boyfriendfor a family functionand then this guy shows up.Which rug?Dhoti?You know, I would hope mysister dates a bigger loser.Does your sisterhave a weirderboyfriend than you?No, they are equally weird.But we only talk aboutone cousin's boyfriendwho is a big loser.We're like, yeah, thisguy is the problem.So then all our boyfriendssit together andwe're like, ha-ha.Loser.As long as someonehas got worse than me,It's fine.And if you have it the worst,then that year you don’t go for Diwali.It's not worth it.You are right.As in walk around with a tentevery time he meets the family?Yeah - Embrace it.Assert dominance.Or have a d**measuring competitionwith other uncles.And be like,I'm challenging you alleveryone of you.The uncle with the biggest onegets the attention,he marries the girl.Distraction tactics.That's perfect If he loses, it's perfect.Sounds like a pagefrom your life, bro.Yeah, actually.I am relating hard.Wait, what?What?That's what it is?It makes sense.Disappoint which friends?The friend that likes her.No, wait, there are two girls.They like one guy.The girl.\n",
            "\n",
            "the second girl19F, the friend we're talking aboutYeah, the guy is just onedildo.Her friend likes herand she is trying to cockblock herand send her nudes so thatshe gets the hint, that I like you.This is a common referencethat has brought up in theshow.\n",
            "\n",
            "Kuch Kuch Hota Hai, okay?Imagine..I haven't watchedthat boring movie.Let's do Kuch Kuch Hota Hai once againis that okay? We'll doKuch Kuch Hota Haithere's Rahul.There's Tina and Anjali, okay?Anjali likes Rahul.Okay?But then she realisesoh, Tina also likes Rahul so I'll back off.Then Tina says,Hey, here are some naked photos of mewhich one should I send to Rahul?And then she's like,yeah, I think third one isnice and she says, okay cooland she tells her after 4 days thatbro, I sent you nudesso that you wouldbe attracted to me.Rahul isJust there What do I do?Anjali should date Rahul.And invite Tina for a threesome.This horny f** yeah, yeah.Yeah, yeah.Yes.You do know thatTina dies, right?You all find it difficult todisappoint your friends?Yeah But I've actually pickednudes for my friend tosend to a guy that I likelike, I mean I thought..Well, now you knowwhy she sent it to you.Bastard, you sent this question, no?No, I am not 19 but thanks.And you are asking us for solutions now?No.But back in, like, when you are 18..19, you are like,Yo, what the f** one second.Is this normal? Do girls just ask youwhich naked picture to send?What?Shut the f** up at leastyou all don't send eachother, like, oh, this is a goodpose for nudes.I have never sent.Abhishek, don't lie.You send me all the time.Sakshi, they getready on their own.Yeah.They are not..everyone's not watching that.It's okay It's established thatwomen are lot morecomfortable aroundother women in the sense thatif another woman tellssaying, hey could you like,button my blouse or something,the woman would do it.But if a guy tells me can youzip up my pants? Remove.It's not even a boundarybecause we literally help each other put intampons and stuff.So this is like.\n",
            "\n",
            "- Help what?Thank you.Like you’re not naked in the nude,it's like a bikini picture.Like it's fine..It’s like you are in lingerie, it's not weird.Yeah \"No?Suggest if thesebiscuits are good,or these biscuits are good?Or should I send bread?Could I ask youlet's say your friend isnot looking good in it,do you say, yuck?Or are you like, you go girl,you are always beautiful.You'll say..you looked better.Constructive as in? Re-shoot it.What do you say?Yeah, I guess you rank it.Like, this is first option, second option..You say this and you've more optionsThat's the most polite way of sayingIt sounds like we're talking at Hill Road I'll saydo you have more options?Sorry.Then and there heforgets he is married.Says something nonsenseevery sorry is not foryou guys, it's for his wife.Like, sorry.There's a guywaiting with his LamboI've no option.Okay, so you said, you've more options.Okay, now let's say this person has send you 10 optionsand all of them are not that great Go with it.The thing is girls are more criticalof themselves than anyone elseso it's like such a bad photoI will also never receive it.Like forget the guy.Guys will check out this conversationshould I wear yellowshoes with red t-shirt?Yeah, yeah, wear.Don't f** bother me.With your problems, you bastard - Wear something.Guy gets a nude from her.Guy starts dating her after 6 months.Guy gets a hold of herphone after 1 year, he's like,hey, this photo, whydidn't you send me?It's too good.Sakshi didn't like it If they have an opinion on thisthey have opinions on other things too, right?They have opinions onwhere all you decide to golike they could give opinions.Only opinions when you ask.Otherwise, they don't have an opinion.But do the opinions ever end?6 months into a relationship,you’re still asking for opinions.2 years into, you arelike, no, no, now I knowthis guy I've myfinger on the pulse.I wouldn't need opinions.You only don't ask for opinionswhen you are in atoxic relationship.Otherwise, you always ask.Because if you are in a toxic relationship,you are like, f** she isgoing to say break upI am not ready for that.I'll just chop it off.So you are saying the test.\n",
            "\n",
            "if you are a guytest is to check your girlfriend's best friend'sphone and see if sheis naked over there.Specially, if he is a guy best friend After two years,you've potentially seen everything.Every version of yours,ugly, pretty, whatever,so why do youstill need opinionsafter 2 years of dating?You all say, wear redshoes with yellow t-shirtbut no one wants to go out like that.No Yeah.It's red underwearwith white dhoti.After 2 years, don't you think you can beyour true version without anydifferent opinions?No, in the sense, if there's an opinionto be asked, then ask becauseyou are not in the same phase of your relationship.Could you tell me what otherthings you'll ask opinions about?Guys, he is hitting me, is that normal?I mean.\n",
            "\n",
            "people have asked that alsolike, it gets very intense andsometimes it's time-pass like,he doesn't pick up the dog'spoop or something like that.Sometimes, it's more like,oh, you know, his mom hates me.But he is notstanding up for me.It's like a lot of like,we've a sisterhood We go in abathroom earlier whenyou are like in your early 20syou were like, yeah, youlook really nice and nowmy boyfriend doesn't respect me.And then strangersare giving you advicethen you're like, yeah, yeah.It's fun but it's sisterhood.You guys, I’ve lost y’all.Brotherhood is the exact oppositeif someone spoketo me at a urinalYou block him.I'll piss on their face, dude.Don't f** talk to mein the bathroom.Someone spoke to me atthe urinal, I would be like,your girlfriend doesn'thit you or what?I am at that phase where Reddit hasstarted discussingbreak up rumoursabout me because I've stoppedposting him becausehe doesn't likebeing on the Internet.First 2 years, out oflove, he'll do it but nowhe's like, this is notrest of my life, you know.Are they speculating on the reasonswhy you all broke up becausethat's the most fun part of the Reddit.Yeah, we're sitting togetherand upvoting and down votingwe're upvoting the wrong reasonswe're down votingthe right reasons.It's like,Don't ask for consent.\n"
          ]
        }
      ],
      "source": [
        "!pip install nltk\n",
        "!pip install youtube-transcript-api scikit-learn nltk\n",
        "import os\n",
        "import numpy as np\n",
        "from youtube_transcript_api import YouTubeTranscriptApi\n",
        "from sklearn.feature_extraction.text import TfidfVectorizer\n",
        "from nltk.tokenize import sent_tokenize\n",
        "import nltk\n",
        "nltk.download('punkt')\n",
        "nltk.data.find('tokenizers/punkt')\n",
        "\n",
        "# Ensure necessary NLTK data is available\n",
        "try:\n",
        "    nltk.data.find('tokenizers/punkt')\n",
        "except LookupError:\n",
        "    nltk.download('punkt')\n",
        "\n",
        "def get_video_transcript(video_url):\n",
        "    \"Extracts the transcript from a YouTube video.\"\n",
        "    video_id = video_url.split(\"v=\")[-1]\n",
        "    try:\n",
        "        transcript = YouTubeTranscriptApi.get_transcript(video_id, languages=['en'])\n",
        "        full_text = \"\".join([x['text'] for x in transcript]).replace(\"\\n\", \" \").strip()\n",
        "        return full_text\n",
        "    except Exception as e:\n",
        "        print(f\"Error fetching transcript: {e}\")\n",
        "        return None\n",
        "\n",
        "def extractive_summarization(text, compression_ratio=0.5):\n",
        "    \"Summarizes the given text using extractive summarization, keeping important points.\"\n",
        "    sentences = sent_tokenize(text)\n",
        "    total_sentences = len(sentences)\n",
        "    num_summary_sentences = max(1, int(total_sentences * compression_ratio))\n",
        "\n",
        "    if total_sentences < 2:\n",
        "        return \"Transcript too short for summarization.\"\n",
        "\n",
        "    # TF-IDF Vectorizer\n",
        "    tf_idf = TfidfVectorizer(\n",
        "        min_df=1,\n",
        "        max_df=0.95,\n",
        "        strip_accents='unicode',\n",
        "        analyzer='word',\n",
        "        lowercase=True,\n",
        "        token_pattern=r'(?u)\\b\\w\\w+\\b',\n",
        "        ngram_range=(1, 2),\n",
        "        use_idf=True, smooth_idf=True,\n",
        "        sublinear_tf=True,\n",
        "        stop_words='english'\n",
        "    )\n",
        "\n",
        "    sentence_vectors = tf_idf.fit_transform(sentences)\n",
        "    sent_scores = np.array(sentence_vectors.sum(axis=1)).ravel()\n",
        "    top_sentence_indices = sent_scores.argsort()[-num_summary_sentences:][::-1]\n",
        "    top_sentences = [sentences[i] for i in sorted(top_sentence_indices)]\n",
        "    return \" \".join(top_sentences)\n",
        "\n",
        "# Example usage and add your URL of youTube video to run this code.\n",
        "youtube_link = \" \"\n",
        "transcript_text = get_video_transcript(youtube_link)\n",
        "\n",
        "if transcript_text:\n",
        "    summary = extractive_summarization(transcript_text, compression_ratio=0.5)\n",
        "    print(\"\\n **Summary:-**\")\n",
        "    print(\" \".join(summary.split(\". \")).replace(\". \", \".\\n\\n\"))\n",
        "\n"
      ]
    }
  ],
  "metadata": {
    "colab": {
      "provenance": []
    },
    "kernelspec": {
      "display_name": "Python 3",
      "name": "python3"
    },
    "language_info": {
      "name": "python"
    }
  },
  "nbformat": 4,
  "nbformat_minor": 0
}
